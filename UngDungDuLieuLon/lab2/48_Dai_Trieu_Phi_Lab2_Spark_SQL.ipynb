{
 "cells": [
  {
   "cell_type": "markdown",
   "metadata": {},
   "source": [
    "# Spark SQL Lab"
   ]
  },
  {
   "cell_type": "markdown",
   "metadata": {},
   "source": [
    "## 1. Thiết lập SQLContext\n",
    "\n",
    "**Chú ý**: Để thực thi được các đoạn mã kết nối đến CSDL Teach (SQLite) ở bên dưới bạn cần chuyển đến thư mục làm việc từ miniconda prompt, activate conda enviromment có cài spark và thực thi lệnh sau để mở jupyter notebook/lab:\n",
    "\n",
    "`pyspark --conf spark.executor.extraClassPath=sqlite-jdbc-3.43.0.0.jar --driver-class-path sqlite-jdbc-3.43.0.0.jar --jars sqlite-jdbc-3.43.0.0.jar`"
   ]
  },
  {
   "cell_type": "code",
   "execution_count": 9,
   "metadata": {},
   "outputs": [
    {
     "name": "stdout",
     "output_type": "stream",
     "text": [
      "Collecting findspark\n",
      "  Using cached findspark-2.0.1-py2.py3-none-any.whl.metadata (352 bytes)\n",
      "Using cached findspark-2.0.1-py2.py3-none-any.whl (4.4 kB)\n",
      "Installing collected packages: findspark\n",
      "Successfully installed findspark-2.0.1\n",
      "Note: you may need to restart the kernel to use updated packages.\n"
     ]
    },
    {
     "name": "stderr",
     "output_type": "stream",
     "text": [
      "WARNING: Ignoring invalid distribution -rotobuf (c:\\users\\huynh thien nhan\\appdata\\local\\programs\\python\\python39\\lib\\site-packages)\n",
      "WARNING: Ignoring invalid distribution -rotobuf (c:\\users\\huynh thien nhan\\appdata\\local\\programs\\python\\python39\\lib\\site-packages)\n",
      "\n",
      "[notice] A new release of pip is available: 24.1.1 -> 24.2\n",
      "[notice] To update, run: C:\\Users\\HUYNH THIEN NHAN\\AppData\\Local\\Programs\\Python\\Python39\\python.exe -m pip install --upgrade pip\n"
     ]
    }
   ],
   "source": [
    "pip install findspark"
   ]
  },
  {
   "cell_type": "code",
   "execution_count": 12,
   "metadata": {},
   "outputs": [
    {
     "data": {
      "text/plain": [
       "'C:\\\\spark'"
      ]
     },
     "execution_count": 12,
     "metadata": {},
     "output_type": "execute_result"
    }
   ],
   "source": [
    "import findspark\n",
    "findspark.init()\n",
    "\n",
    "import pyspark\n",
    "findspark.find()"
   ]
  },
  {
   "cell_type": "code",
   "execution_count": 14,
   "metadata": {},
   "outputs": [],
   "source": [
    "from pyspark.sql import SparkSession\n",
    "\n",
    "spark = SparkSession.builder\\\n",
    "           .config('spark.jars.packages', 'org.xerial:sqlite-jdbc:3.34.0')\\\n",
    "           .getOrCreate()"
   ]
  },
  {
   "cell_type": "markdown",
   "metadata": {},
   "source": [
    "## 2. Tạo các dataframe từ các table\n",
    "\n",
    "Ở bài lab này ta sẽ làm việc với CSDL `Teach`. Ta sẽ kết nối đến CSDL `Teach` (SQLite) và tạo ra các dataframe từ các table của CSDL này.\n",
    "\n",
    "Lược đồ CSDL Teach gồm các bảng sau:\n",
    "\n",
    "- `GiangVien(MaGV, TenGV, ChucDanh, Luong)`\n",
    "- `MonHoc(MaMH, TenMH, SoTC)`\n",
    "- `GiangDay(MaMH, HocKy, MaGV)`\n",
    "\n",
    "**Ghi chú**: Trường `ChucDanh` có thể nhận các giá trị là `'Full Professor'`, `'Associate Professor'`, và `'Assistant Professor'`."
   ]
  },
  {
   "cell_type": "code",
   "execution_count": 16,
   "metadata": {},
   "outputs": [],
   "source": [
    "gv = spark.read.format('jdbc') \\\n",
    "        .options(driver='org.sqlite.JDBC', dbtable='GiangVien',\n",
    "                 url='jdbc:sqlite:D:/HCMUTE/Namtu/BDML/lab2/teach.db')\\\n",
    "        .load()"
   ]
  },
  {
   "cell_type": "code",
   "execution_count": 17,
   "metadata": {
    "editable": true,
    "slideshow": {
     "slide_type": "fragment"
    },
    "tags": []
   },
   "outputs": [
    {
     "name": "stdout",
     "output_type": "stream",
     "text": [
      "root\n",
      " |-- MaGV: string (nullable = true)\n",
      " |-- TenGV: string (nullable = true)\n",
      " |-- ChucDanh: string (nullable = true)\n",
      " |-- Luong: decimal(10,2) (nullable = true)\n",
      "\n"
     ]
    }
   ],
   "source": [
    "gv.printSchema()"
   ]
  },
  {
   "cell_type": "code",
   "execution_count": 18,
   "metadata": {},
   "outputs": [],
   "source": [
    "mh = spark.read.format('jdbc') \\\n",
    "        .options(driver='org.sqlite.JDBC', dbtable='MonHoc',\n",
    "                 url='jdbc:sqlite:D:/HCMUTE/Namtu/BDML/lab2/teach.db')\\\n",
    "        .load()"
   ]
  },
  {
   "cell_type": "code",
   "execution_count": 19,
   "metadata": {},
   "outputs": [
    {
     "name": "stdout",
     "output_type": "stream",
     "text": [
      "root\n",
      " |-- MaMH: string (nullable = true)\n",
      " |-- TenMH: string (nullable = true)\n",
      " |-- SoTC: long (nullable = true)\n",
      "\n"
     ]
    }
   ],
   "source": [
    "mh.printSchema()"
   ]
  },
  {
   "cell_type": "code",
   "execution_count": 20,
   "metadata": {},
   "outputs": [],
   "source": [
    "gd = spark.read.format('jdbc') \\\n",
    "        .options(driver='org.sqlite.JDBC', dbtable='GiangDay',\n",
    "                 url='jdbc:sqlite:D:/HCMUTE/Namtu/BDML/lab2/teach.db')\\\n",
    "        .load()"
   ]
  },
  {
   "cell_type": "code",
   "execution_count": 21,
   "metadata": {},
   "outputs": [
    {
     "name": "stdout",
     "output_type": "stream",
     "text": [
      "root\n",
      " |-- MaMH: string (nullable = true)\n",
      " |-- HocKy: string (nullable = true)\n",
      " |-- MaGV: string (nullable = true)\n",
      "\n"
     ]
    }
   ],
   "source": [
    "gd.printSchema()"
   ]
  },
  {
   "cell_type": "markdown",
   "metadata": {},
   "source": [
    "## 3. Tạo các temp view cho các dataframe"
   ]
  },
  {
   "cell_type": "code",
   "execution_count": 22,
   "metadata": {},
   "outputs": [],
   "source": [
    "gv.createOrReplaceTempView(\"GiangVien\")\n",
    "mh.createOrReplaceTempView(\"MonHoc\")\n",
    "gd.createOrReplaceTempView(\"GiangDay\")"
   ]
  },
  {
   "cell_type": "markdown",
   "metadata": {},
   "source": [
    "## 4. Xem dữ liệu của các table"
   ]
  },
  {
   "cell_type": "markdown",
   "metadata": {},
   "source": [
    "### 4.1. Xem dữ liệu bảng `GiangVien`\n",
    "#### 4.1.1. Dùng Spark operation"
   ]
  },
  {
   "cell_type": "code",
   "execution_count": 23,
   "metadata": {},
   "outputs": [
    {
     "name": "stdout",
     "output_type": "stream",
     "text": [
      "+------+--------------+-------------------+------+\n",
      "|  MaGV|         TenGV|           ChucDanh| Luong|\n",
      "+------+--------------+-------------------+------+\n",
      "|PROF01|  Sheldon Ross|Assistant Professor| 75.00|\n",
      "|PROF02|Jeffrey Ullman|Assistant Professor| 90.00|\n",
      "|PROF03|   Jon Patrick|     Full Professor|135.00|\n",
      "|PROF04|  Joseph Davis|Associate Professor|120.00|\n",
      "|PROF05| Gibert Strang|Associate Professor|120.00|\n",
      "|PROF06|  Peter Norton|Assistant Professor| 90.00|\n",
      "|PROF07| Sanjay Chawla|     Full Professor|140.00|\n",
      "+------+--------------+-------------------+------+\n",
      "\n"
     ]
    }
   ],
   "source": [
    "gv.show()"
   ]
  },
  {
   "cell_type": "markdown",
   "metadata": {},
   "source": [
    "#### 4.1.2. Dùng Spark SQL"
   ]
  },
  {
   "cell_type": "code",
   "execution_count": 24,
   "metadata": {},
   "outputs": [
    {
     "name": "stdout",
     "output_type": "stream",
     "text": [
      "+------+--------------+-------------------+------+\n",
      "|  MaGV|         TenGV|           ChucDanh| Luong|\n",
      "+------+--------------+-------------------+------+\n",
      "|PROF01|  Sheldon Ross|Assistant Professor| 75.00|\n",
      "|PROF02|Jeffrey Ullman|Assistant Professor| 90.00|\n",
      "|PROF03|   Jon Patrick|     Full Professor|135.00|\n",
      "|PROF04|  Joseph Davis|Associate Professor|120.00|\n",
      "|PROF05| Gibert Strang|Associate Professor|120.00|\n",
      "|PROF06|  Peter Norton|Assistant Professor| 90.00|\n",
      "|PROF07| Sanjay Chawla|     Full Professor|140.00|\n",
      "+------+--------------+-------------------+------+\n",
      "\n"
     ]
    }
   ],
   "source": [
    "query = \"\"\" \n",
    "    select *\n",
    "    from GiangVien\n",
    "\"\"\"\n",
    "spark.sql(query).show()"
   ]
  },
  {
   "cell_type": "markdown",
   "metadata": {},
   "source": [
    "### 4.2. Xem dữ liệu bảng `MonHoc`\n",
    "#### 4.2.1. Dùng Spark operation"
   ]
  },
  {
   "cell_type": "code",
   "execution_count": 29,
   "metadata": {},
   "outputs": [
    {
     "name": "stdout",
     "output_type": "stream",
     "text": [
      "+-----+--------------------+----+\n",
      "| MaMH|               TenMH|SoTC|\n",
      "+-----+--------------------+----+\n",
      "|CRS01|      Linear Algebra|   5|\n",
      "|CRS02|Probability and S...|   5|\n",
      "|CRS03|Discrete Mathamatics|   5|\n",
      "|CRS04|Introduction to C...|   5|\n",
      "|CRS05|            Database|   4|\n",
      "|CRS06|Data Struture and...|   4|\n",
      "|CRS07|Object Oriented P...|   4|\n",
      "|CRS08|   Computer Networks|   4|\n",
      "|CRS09|   Operating Systems|   4|\n",
      "+-----+--------------------+----+\n",
      "\n"
     ]
    }
   ],
   "source": [
    "mh.show()"
   ]
  },
  {
   "cell_type": "markdown",
   "metadata": {},
   "source": [
    "#### 4.2.2. Dùng Spark SQL"
   ]
  },
  {
   "cell_type": "code",
   "execution_count": 30,
   "metadata": {},
   "outputs": [
    {
     "name": "stdout",
     "output_type": "stream",
     "text": [
      "+-----+--------------------+----+\n",
      "| MaMH|               TenMH|SoTC|\n",
      "+-----+--------------------+----+\n",
      "|CRS01|      Linear Algebra|   5|\n",
      "|CRS02|Probability and S...|   5|\n",
      "|CRS03|Discrete Mathamatics|   5|\n",
      "|CRS04|Introduction to C...|   5|\n",
      "|CRS05|            Database|   4|\n",
      "|CRS06|Data Struture and...|   4|\n",
      "|CRS07|Object Oriented P...|   4|\n",
      "|CRS08|   Computer Networks|   4|\n",
      "|CRS09|   Operating Systems|   4|\n",
      "+-----+--------------------+----+\n",
      "\n"
     ]
    }
   ],
   "source": [
    "query = \"\"\" \n",
    "    select *\n",
    "    from MonHoc\n",
    "\"\"\"\n",
    "spark.sql(query).show()"
   ]
  },
  {
   "cell_type": "markdown",
   "metadata": {},
   "source": [
    "### 4.3. Xem dữ liệu bảng `GiangDay`\n",
    "#### 4.3.1. Dùng Spark operation"
   ]
  },
  {
   "cell_type": "code",
   "execution_count": 27,
   "metadata": {},
   "outputs": [
    {
     "name": "stdout",
     "output_type": "stream",
     "text": [
      "+-----+-----+------+\n",
      "| MaMH|HocKy|  MaGV|\n",
      "+-----+-----+------+\n",
      "|CRS02|F2006|PROF01|\n",
      "|CRS02|S2006|PROF01|\n",
      "|CRS03|S2004|PROF06|\n",
      "|CRS04|F2006|PROF06|\n",
      "|CRS04|F2009|PROF06|\n",
      "|CRS04|F2010|PROF06|\n",
      "|CRS05|F2005|PROF02|\n",
      "|CRS06|F2008|PROF07|\n",
      "|CRS07|F2010|PROF03|\n",
      "|CRS08|F2010|PROF03|\n",
      "|CRS08|S2006|PROF04|\n",
      "|CRS09|F2006|PROF06|\n",
      "|CRS09|S2006|PROF07|\n",
      "+-----+-----+------+\n",
      "\n"
     ]
    }
   ],
   "source": [
    "gd.show()"
   ]
  },
  {
   "cell_type": "markdown",
   "metadata": {},
   "source": [
    "#### 4.3.2. Dùng Spark SQL"
   ]
  },
  {
   "cell_type": "code",
   "execution_count": 28,
   "metadata": {},
   "outputs": [
    {
     "name": "stdout",
     "output_type": "stream",
     "text": [
      "+-----+-----+------+\n",
      "| MaMH|HocKy|  MaGV|\n",
      "+-----+-----+------+\n",
      "|CRS02|F2006|PROF01|\n",
      "|CRS02|S2006|PROF01|\n",
      "|CRS03|S2004|PROF06|\n",
      "|CRS04|F2006|PROF06|\n",
      "|CRS04|F2009|PROF06|\n",
      "|CRS04|F2010|PROF06|\n",
      "|CRS05|F2005|PROF02|\n",
      "|CRS06|F2008|PROF07|\n",
      "|CRS07|F2010|PROF03|\n",
      "|CRS08|F2010|PROF03|\n",
      "|CRS08|S2006|PROF04|\n",
      "|CRS09|F2006|PROF06|\n",
      "|CRS09|S2006|PROF07|\n",
      "+-----+-----+------+\n",
      "\n"
     ]
    }
   ],
   "source": [
    "query = \"\"\" \n",
    "    select *\n",
    "    from GiangDay\n",
    "\"\"\"\n",
    "spark.sql(query).show()"
   ]
  },
  {
   "cell_type": "markdown",
   "metadata": {},
   "source": [
    "## 5. Câu hỏi\n",
    "\n",
    "Viết truy vấn SQL để trả lời các câu hỏi sau đồng thời thực thi chúng để hiển thị kết quả."
   ]
  },
  {
   "cell_type": "markdown",
   "metadata": {},
   "source": [
    "### Q1. Liệt kê tên giảng viên chưa từng dạy môn `'CRS07'`."
   ]
  },
  {
   "cell_type": "code",
   "execution_count": 37,
   "metadata": {},
   "outputs": [
    {
     "name": "stdout",
     "output_type": "stream",
     "text": [
      "+--------------+\n",
      "|         TenGV|\n",
      "+--------------+\n",
      "|  Joseph Davis|\n",
      "| Sanjay Chawla|\n",
      "|Jeffrey Ullman|\n",
      "|  Sheldon Ross|\n",
      "|   Jon Patrick|\n",
      "|  Peter Norton|\n",
      "+--------------+\n",
      "\n"
     ]
    }
   ],
   "source": [
    "query = \"\"\" \n",
    "    select distinct TenGV\n",
    "    from GiangDay as gd\n",
    "    join GiangVien as gv\n",
    "    on gv.MaGV = gd.MaGV\n",
    "    where gd.MaMH <> 'CRS07'\n",
    "\"\"\"\n",
    "spark.sql(query).show()"
   ]
  },
  {
   "cell_type": "markdown",
   "metadata": {},
   "source": [
    "### Q2. Liệt kê tên giảng viên đã dạy cả hai môn `'CRS07'` và `'CRS08'`."
   ]
  },
  {
   "cell_type": "code",
   "execution_count": 55,
   "metadata": {},
   "outputs": [
    {
     "name": "stdout",
     "output_type": "stream",
     "text": [
      "+-----------+\n",
      "|      TenGV|\n",
      "+-----------+\n",
      "|Jon Patrick|\n",
      "+-----------+\n",
      "\n"
     ]
    }
   ],
   "source": [
    "query = \"\"\" \n",
    "    select gv.TenGV\n",
    "    from GiangVien as gv\n",
    "    join GiangDay as gd1\n",
    "    on gv.MaGV = gd1.MaGV\n",
    "    join GiangDay as gd2\n",
    "    on gv.MaGV = gd2.MaGV\n",
    "    where gd1.MaMH = 'CRS07' and gd2.MaMH = 'CRS08'\n",
    "    group by gv.TenGV\n",
    "\"\"\"\n",
    "spark.sql(query).show()"
   ]
  },
  {
   "cell_type": "markdown",
   "metadata": {},
   "source": [
    "### Q3. Liệt kê tên giảng viên đã dạy cả hai môn `'CRS07'` và `'CRS08'` trong một học kỳ."
   ]
  },
  {
   "cell_type": "code",
   "execution_count": 58,
   "metadata": {},
   "outputs": [
    {
     "name": "stdout",
     "output_type": "stream",
     "text": [
      "+-----------+\n",
      "|      TenGV|\n",
      "+-----------+\n",
      "|Jon Patrick|\n",
      "+-----------+\n",
      "\n"
     ]
    }
   ],
   "source": [
    "query = \"\"\" \n",
    "    select distinct gv.TenGV\n",
    "    from GiangVien as gv\n",
    "    join GiangDay as gd1\n",
    "    on gv.MaGV = gd1.MaGV\n",
    "    join GiangDay as gd2\n",
    "    on gv.MaGV = gd2.MaGV\n",
    "    where gd1.MaMH = 'CRS07'\n",
    "      and gd2.MaMH = 'CRS08'\n",
    "      and gd1.HocKy = gd2.HocKy\n",
    "\"\"\"\n",
    "spark.sql(query).show()"
   ]
  },
  {
   "cell_type": "markdown",
   "metadata": {},
   "source": [
    "### Q4. Liệt kê tên giảng viên đã dạy môn `'CRS08'` nhưng chưa dạy môn `'CRS07'`."
   ]
  },
  {
   "cell_type": "code",
   "execution_count": 59,
   "metadata": {},
   "outputs": [
    {
     "name": "stdout",
     "output_type": "stream",
     "text": [
      "+------------+\n",
      "|       TenGV|\n",
      "+------------+\n",
      "|Joseph Davis|\n",
      "+------------+\n",
      "\n"
     ]
    }
   ],
   "source": [
    "query = \"\"\" \n",
    "    select distinct gv.TenGV\n",
    "    from GiangVien as gv\n",
    "    join GiangDay as gd1\n",
    "    on gv.MaGV = gd1.MaGV\n",
    "    where gd1.MaMH = 'CRS08'\n",
    "    and gv.MaGV not in (\n",
    "        select gd2.MaGV\n",
    "        from GiangDay as gd2\n",
    "        where gd2.MaMH = 'CRS07'\n",
    "    )\n",
    "\"\"\"\n",
    "spark.sql(query).show()"
   ]
  },
  {
   "cell_type": "markdown",
   "metadata": {},
   "source": [
    "### Q5. Liệt kê tên môn học chỉ được dạy bởi những giảng viên là `'Full Professor'`."
   ]
  },
  {
   "cell_type": "code",
   "execution_count": 64,
   "metadata": {},
   "outputs": [
    {
     "name": "stdout",
     "output_type": "stream",
     "text": [
      "+-----+\n",
      "| MaMH|\n",
      "+-----+\n",
      "|CRS06|\n",
      "|CRS07|\n",
      "+-----+\n",
      "\n"
     ]
    }
   ],
   "source": [
    "query = \"\"\" \n",
    "    select distinct gd.MaMH\n",
    "    from GiangDay as gd\n",
    "    join GiangVien as gv\n",
    "    on gd.MaGV = gv.MaGV\n",
    "    where gv.ChucDanh = 'Full Professor'\n",
    "      and not exists (\n",
    "        select 1\n",
    "        from GiangDay as gd2\n",
    "        join GiangVien as gv2\n",
    "        on gd2.MaGV = gv2.MaGV\n",
    "        where gd.MaMH = gd2.MaMH\n",
    "          and gv2.ChucDanh <> 'Full Professor'\n",
    "      )\n",
    "\"\"\"\n",
    "spark.sql(query).show()"
   ]
  },
  {
   "cell_type": "markdown",
   "metadata": {},
   "source": [
    "### Q6. Liệt kê tên môn được dạy bởi ít nhất hai giảng viên khác nhau."
   ]
  },
  {
   "cell_type": "code",
   "execution_count": 65,
   "metadata": {},
   "outputs": [
    {
     "name": "stdout",
     "output_type": "stream",
     "text": [
      "+-----+\n",
      "| MaMH|\n",
      "+-----+\n",
      "|CRS08|\n",
      "|CRS09|\n",
      "+-----+\n",
      "\n"
     ]
    }
   ],
   "source": [
    "query = \"\"\"\n",
    "    select gd.MaMH\n",
    "    from GiangDay as gd\n",
    "    group by gd.MaMH\n",
    "    having count(distinct gd.MaGV) >= 2\n",
    "\"\"\"\n",
    "spark.sql(query).show()"
   ]
  },
  {
   "cell_type": "markdown",
   "metadata": {},
   "source": [
    "### Q7. Liệt kê tên giảng viên có lương cao thứ hai."
   ]
  },
  {
   "cell_type": "code",
   "execution_count": 66,
   "metadata": {},
   "outputs": [
    {
     "name": "stdout",
     "output_type": "stream",
     "text": [
      "+-----------+\n",
      "|      TenGV|\n",
      "+-----------+\n",
      "|Jon Patrick|\n",
      "+-----------+\n",
      "\n"
     ]
    }
   ],
   "source": [
    "query = \"\"\"\n",
    "    with RankedSalaries as (\n",
    "        select gv.TenGV, gv.Luong,\n",
    "               row_number() over (order by gv.Luong desc) as rank\n",
    "        from GiangVien as gv\n",
    "    )\n",
    "    select TenGV\n",
    "    from RankedSalaries\n",
    "    where rank = 2\n",
    "\"\"\"\n",
    "spark.sql(query).show()"
   ]
  },
  {
   "cell_type": "markdown",
   "metadata": {},
   "source": [
    "### Q8. Liệt kê tên tên giảng viên dạy nhiều môn nhất trong học kỳ `'F2010'`."
   ]
  },
  {
   "cell_type": "code",
   "execution_count": 67,
   "metadata": {},
   "outputs": [
    {
     "name": "stdout",
     "output_type": "stream",
     "text": [
      "+-----------+\n",
      "|      TenGV|\n",
      "+-----------+\n",
      "|Jon Patrick|\n",
      "+-----------+\n",
      "\n"
     ]
    }
   ],
   "source": [
    "query = \"\"\"\n",
    "    with TeacherSubjectCount as (\n",
    "        select gv.TenGV, count(distinct gd.MaMH) as SubjectCount\n",
    "        from GiangDay as gd\n",
    "        join GiangVien as gv\n",
    "        on gd.MaGV = gv.MaGV\n",
    "        where gd.HocKy = 'F2010'\n",
    "        group by gv.TenGV\n",
    "    )\n",
    "    select TenGV\n",
    "    from TeacherSubjectCount\n",
    "    where SubjectCount = (\n",
    "        select max(SubjectCount)\n",
    "        from TeacherSubjectCount\n",
    "    )\n",
    "\"\"\"\n",
    "spark.sql(query).show()"
   ]
  },
  {
   "cell_type": "markdown",
   "metadata": {},
   "source": [
    "### Q9. Liệt kê tên (những) giảng viên dạy tất cả các môn được mở trong học kỳ `'S2004'`."
   ]
  },
  {
   "cell_type": "code",
   "execution_count": 68,
   "metadata": {},
   "outputs": [
    {
     "name": "stdout",
     "output_type": "stream",
     "text": [
      "+------------+\n",
      "|       TenGV|\n",
      "+------------+\n",
      "|Peter Norton|\n",
      "+------------+\n",
      "\n"
     ]
    }
   ],
   "source": [
    "query = \"\"\"\n",
    "    select gv.TenGV\n",
    "    from GiangDay as gd\n",
    "    join GiangVien as gv\n",
    "    on gd.MaGV = gv.MaGV\n",
    "    where gd.HocKy = 'S2004'\n",
    "    group by gv.TenGV\n",
    "    having count(distinct gd.MaMH) = (\n",
    "        select count(distinct gd2.MaMH)\n",
    "        from GiangDay as gd2\n",
    "        where gd2.HocKy = 'S2004'\n",
    "    )\n",
    "\"\"\"\n",
    "spark.sql(query).show()"
   ]
  },
  {
   "cell_type": "markdown",
   "metadata": {},
   "source": [
    "### Q10. Liệt kê tên (những) giảng viên đã dạy nhiều môn hơn số môn trung bình được dạy bởi mỗi giảng viên trong tất cả các học kỳ."
   ]
  },
  {
   "cell_type": "code",
   "execution_count": 69,
   "metadata": {},
   "outputs": [
    {
     "name": "stdout",
     "output_type": "stream",
     "text": [
      "+-------------+\n",
      "|        TenGV|\n",
      "+-------------+\n",
      "|Sanjay Chawla|\n",
      "|  Jon Patrick|\n",
      "| Peter Norton|\n",
      "+-------------+\n",
      "\n"
     ]
    }
   ],
   "source": [
    "query = \"\"\"\n",
    "    select gv.TenGV\n",
    "    from GiangDay as gd\n",
    "    join GiangVien as gv\n",
    "    on gd.MaGV = gv.MaGV\n",
    "    group by gv.TenGV\n",
    "    having count(distinct gd.MaMH) > (\n",
    "        select avg(CourseCount)\n",
    "        from (\n",
    "            select count(distinct gd2.MaMH) as CourseCount\n",
    "            from GiangDay as gd2\n",
    "            group by gd2.MaGV\n",
    "        ) as AvgCourses\n",
    "    )\n",
    "\"\"\"\n",
    "spark.sql(query).show()"
   ]
  }
 ],
 "metadata": {
  "interpreter": {
   "hash": "cef9e06bb236b2a8629b07e87a04b187b952a0f661eff5533360a155783f0c33"
  },
  "kernelspec": {
   "display_name": "Python 3 (ipykernel)",
   "language": "python",
   "name": "python3"
  },
  "language_info": {
   "codemirror_mode": {
    "name": "ipython",
    "version": 3
   },
   "file_extension": ".py",
   "mimetype": "text/x-python",
   "name": "python",
   "nbconvert_exporter": "python",
   "pygments_lexer": "ipython3",
   "version": "3.9.12"
  }
 },
 "nbformat": 4,
 "nbformat_minor": 4
}
