{
 "cells": [
  {
   "cell_type": "markdown",
   "metadata": {},
   "source": [
    "# Lab 1 - kNN and Bias-Variance Tradeoff\n",
    "\n",
    "- Your name: Đái Triệu Phi\n",
    "\n",
    "- Your student code: 21133068\n"
   ]
  },
  {
   "cell_type": "markdown",
   "metadata": {},
   "source": [
    "# I. Hướng dẫn\n"
   ]
  },
  {
   "cell_type": "markdown",
   "metadata": {},
   "source": [
    "## 1. Minh họa bias-variance tradeoff với k-NN cho hồi quy\n"
   ]
  },
  {
   "cell_type": "markdown",
   "metadata": {},
   "source": [
    "### 1.1. Tìm hiểu tổng quan về dữ liệu\n",
    "\n",
    "Phần này sẽ dùng tập dữ liệu `boston` để minh họa. Tập dữ liệu này có một số thông tin sau:\n",
    "\n",
    "## Boston house prices dataset\n",
    "\n",
    "**Data Set Characteristics:**\n",
    "\n",
    "- Number of Instances: 506\n",
    "\n",
    "- Number of Attributes: 13 numeric/categorical predictive. Median Value (attribute 14) is usually the target.\n",
    "\n",
    "- Attribute Information (in order):\n",
    "\n",
    "  - CRIM per capita crime rate by town\n",
    "  - ZN proportion of residential land zoned for lots over 25,000 sq.ft.\n",
    "  - INDUS proportion of non-retail business acres per town\n",
    "  - CHAS Charles River dummy variable (= 1 if tract bounds river; 0 otherwise)\n",
    "  - NOX nitric oxides concentration (parts per 10 million)\n",
    "  - RM average number of rooms per dwelling\n",
    "  - AGE proportion of owner-occupied units built prior to 1940\n",
    "  - DIS weighted distances to five Boston employment centres\n",
    "  - RAD index of accessibility to radial highways\n",
    "  - TAX full-value property-tax rate per \\$10,000\n",
    "  - PTRATIO pupil-teacher ratio by town\n",
    "  - B 1000(Bk - 0.63)^2 where Bk is the proportion of blacks by town\n",
    "  - LSTAT % lower status of the population\n",
    "  - MEDV Median value of owner-occupied homes in $1000's\n",
    "\n",
    "- Missing Attribute Values: None\n",
    "\n",
    "- Creator: Harrison, D. and Rubinfeld, D.L.\n",
    "\n",
    "This is a copy of UCI ML housing dataset.\n",
    "https://archive.ics.uci.edu/ml/machine-learning-databases/housing/\n",
    "\n",
    "This dataset was taken from the StatLib library which is maintained at Carnegie Mellon University.\n",
    "\n",
    "The Boston house-price data of Harrison, D. and Rubinfeld, D.L. 'Hedonic\n",
    "prices and the demand for clean air', J. Environ. Economics & Management,\n",
    "vol.5, 81-102, 1978. Used in Belsley, Kuh & Welsch, 'Regression diagnostics\n",
    "...', Wiley, 1980. N.B. Various transformations are used in the table on\n",
    "pages 244-261 of the latter.\n",
    "\n",
    "The Boston house-price data has been used in many machine learning papers that address regression\n",
    "problems.\n",
    "\n",
    "**References**\n",
    "\n",
    "- Belsley, Kuh & Welsch, 'Regression diagnostics: Identifying Influential Data and Sources of Collinearity', Wiley, 1980. 244-261.\n",
    "- Quinlan,R. (1993). Combining Instance-Based and Model-Based Learning. In Proceedings on the Tenth International Conference of Machine Learning, 236-243, University of Massachusetts, Amherst. Morgan Kaufmann.\n",
    "\n",
    "#### 1.1.1. Load dữ liệu\n"
   ]
  },
  {
   "cell_type": "code",
   "execution_count": 14,
   "metadata": {
    "tags": []
   },
   "outputs": [
    {
     "data": {
      "text/html": [
       "<div>\n",
       "<style scoped>\n",
       "    .dataframe tbody tr th:only-of-type {\n",
       "        vertical-align: middle;\n",
       "    }\n",
       "\n",
       "    .dataframe tbody tr th {\n",
       "        vertical-align: top;\n",
       "    }\n",
       "\n",
       "    .dataframe thead th {\n",
       "        text-align: right;\n",
       "    }\n",
       "</style>\n",
       "<table border=\"1\" class=\"dataframe\">\n",
       "  <thead>\n",
       "    <tr style=\"text-align: right;\">\n",
       "      <th></th>\n",
       "      <th>crim</th>\n",
       "      <th>zn</th>\n",
       "      <th>indus</th>\n",
       "      <th>chas</th>\n",
       "      <th>nox</th>\n",
       "      <th>rm</th>\n",
       "      <th>age</th>\n",
       "      <th>dis</th>\n",
       "      <th>rad</th>\n",
       "      <th>tax</th>\n",
       "      <th>ptratio</th>\n",
       "      <th>black</th>\n",
       "      <th>lstat</th>\n",
       "      <th>medv</th>\n",
       "    </tr>\n",
       "  </thead>\n",
       "  <tbody>\n",
       "    <tr>\n",
       "      <th>0</th>\n",
       "      <td>0.00632</td>\n",
       "      <td>18.0</td>\n",
       "      <td>2.31</td>\n",
       "      <td>0</td>\n",
       "      <td>0.538</td>\n",
       "      <td>6.575</td>\n",
       "      <td>65.2</td>\n",
       "      <td>4.0900</td>\n",
       "      <td>1</td>\n",
       "      <td>296</td>\n",
       "      <td>15.3</td>\n",
       "      <td>396.90</td>\n",
       "      <td>4.98</td>\n",
       "      <td>24.0</td>\n",
       "    </tr>\n",
       "    <tr>\n",
       "      <th>1</th>\n",
       "      <td>0.02731</td>\n",
       "      <td>0.0</td>\n",
       "      <td>7.07</td>\n",
       "      <td>0</td>\n",
       "      <td>0.469</td>\n",
       "      <td>6.421</td>\n",
       "      <td>78.9</td>\n",
       "      <td>4.9671</td>\n",
       "      <td>2</td>\n",
       "      <td>242</td>\n",
       "      <td>17.8</td>\n",
       "      <td>396.90</td>\n",
       "      <td>9.14</td>\n",
       "      <td>21.6</td>\n",
       "    </tr>\n",
       "    <tr>\n",
       "      <th>2</th>\n",
       "      <td>0.02729</td>\n",
       "      <td>0.0</td>\n",
       "      <td>7.07</td>\n",
       "      <td>0</td>\n",
       "      <td>0.469</td>\n",
       "      <td>7.185</td>\n",
       "      <td>61.1</td>\n",
       "      <td>4.9671</td>\n",
       "      <td>2</td>\n",
       "      <td>242</td>\n",
       "      <td>17.8</td>\n",
       "      <td>392.83</td>\n",
       "      <td>4.03</td>\n",
       "      <td>34.7</td>\n",
       "    </tr>\n",
       "    <tr>\n",
       "      <th>3</th>\n",
       "      <td>0.03237</td>\n",
       "      <td>0.0</td>\n",
       "      <td>2.18</td>\n",
       "      <td>0</td>\n",
       "      <td>0.458</td>\n",
       "      <td>6.998</td>\n",
       "      <td>45.8</td>\n",
       "      <td>6.0622</td>\n",
       "      <td>3</td>\n",
       "      <td>222</td>\n",
       "      <td>18.7</td>\n",
       "      <td>394.63</td>\n",
       "      <td>2.94</td>\n",
       "      <td>33.4</td>\n",
       "    </tr>\n",
       "    <tr>\n",
       "      <th>4</th>\n",
       "      <td>0.06905</td>\n",
       "      <td>0.0</td>\n",
       "      <td>2.18</td>\n",
       "      <td>0</td>\n",
       "      <td>0.458</td>\n",
       "      <td>7.147</td>\n",
       "      <td>54.2</td>\n",
       "      <td>6.0622</td>\n",
       "      <td>3</td>\n",
       "      <td>222</td>\n",
       "      <td>18.7</td>\n",
       "      <td>396.90</td>\n",
       "      <td>5.33</td>\n",
       "      <td>36.2</td>\n",
       "    </tr>\n",
       "  </tbody>\n",
       "</table>\n",
       "</div>"
      ],
      "text/plain": [
       "      crim    zn  indus  chas    nox     rm   age     dis  rad  tax  ptratio  \\\n",
       "0  0.00632  18.0   2.31     0  0.538  6.575  65.2  4.0900    1  296     15.3   \n",
       "1  0.02731   0.0   7.07     0  0.469  6.421  78.9  4.9671    2  242     17.8   \n",
       "2  0.02729   0.0   7.07     0  0.469  7.185  61.1  4.9671    2  242     17.8   \n",
       "3  0.03237   0.0   2.18     0  0.458  6.998  45.8  6.0622    3  222     18.7   \n",
       "4  0.06905   0.0   2.18     0  0.458  7.147  54.2  6.0622    3  222     18.7   \n",
       "\n",
       "    black  lstat  medv  \n",
       "0  396.90   4.98  24.0  \n",
       "1  396.90   9.14  21.6  \n",
       "2  392.83   4.03  34.7  \n",
       "3  394.63   2.94  33.4  \n",
       "4  396.90   5.33  36.2  "
      ]
     },
     "execution_count": 14,
     "metadata": {},
     "output_type": "execute_result"
    }
   ],
   "source": [
    "import pandas as pd\n",
    "\n",
    "boston = pd.read_csv(\"./Boston.csv\")\n",
    "boston.head()"
   ]
  },
  {
   "cell_type": "markdown",
   "metadata": {},
   "source": [
    "#### 1.1.2. Chuẩn bị dữ liệu\n"
   ]
  },
  {
   "cell_type": "code",
   "execution_count": 15,
   "metadata": {
    "tags": []
   },
   "outputs": [
    {
     "data": {
      "text/plain": [
       "0    24.0\n",
       "1    21.6\n",
       "2    34.7\n",
       "3    33.4\n",
       "4    36.2\n",
       "Name: medv, dtype: float64"
      ]
     },
     "execution_count": 15,
     "metadata": {},
     "output_type": "execute_result"
    }
   ],
   "source": [
    "y = boston[\"medv\"]\n",
    "y.head()"
   ]
  },
  {
   "cell_type": "code",
   "execution_count": 16,
   "metadata": {
    "tags": []
   },
   "outputs": [
    {
     "data": {
      "text/html": [
       "<div>\n",
       "<style scoped>\n",
       "    .dataframe tbody tr th:only-of-type {\n",
       "        vertical-align: middle;\n",
       "    }\n",
       "\n",
       "    .dataframe tbody tr th {\n",
       "        vertical-align: top;\n",
       "    }\n",
       "\n",
       "    .dataframe thead th {\n",
       "        text-align: right;\n",
       "    }\n",
       "</style>\n",
       "<table border=\"1\" class=\"dataframe\">\n",
       "  <thead>\n",
       "    <tr style=\"text-align: right;\">\n",
       "      <th></th>\n",
       "      <th>crim</th>\n",
       "      <th>zn</th>\n",
       "      <th>indus</th>\n",
       "      <th>chas</th>\n",
       "      <th>nox</th>\n",
       "      <th>rm</th>\n",
       "      <th>age</th>\n",
       "      <th>dis</th>\n",
       "      <th>rad</th>\n",
       "      <th>tax</th>\n",
       "      <th>ptratio</th>\n",
       "      <th>black</th>\n",
       "      <th>lstat</th>\n",
       "    </tr>\n",
       "  </thead>\n",
       "  <tbody>\n",
       "    <tr>\n",
       "      <th>0</th>\n",
       "      <td>0.00632</td>\n",
       "      <td>18.0</td>\n",
       "      <td>2.31</td>\n",
       "      <td>0</td>\n",
       "      <td>0.538</td>\n",
       "      <td>6.575</td>\n",
       "      <td>65.2</td>\n",
       "      <td>4.0900</td>\n",
       "      <td>1</td>\n",
       "      <td>296</td>\n",
       "      <td>15.3</td>\n",
       "      <td>396.90</td>\n",
       "      <td>4.98</td>\n",
       "    </tr>\n",
       "    <tr>\n",
       "      <th>1</th>\n",
       "      <td>0.02731</td>\n",
       "      <td>0.0</td>\n",
       "      <td>7.07</td>\n",
       "      <td>0</td>\n",
       "      <td>0.469</td>\n",
       "      <td>6.421</td>\n",
       "      <td>78.9</td>\n",
       "      <td>4.9671</td>\n",
       "      <td>2</td>\n",
       "      <td>242</td>\n",
       "      <td>17.8</td>\n",
       "      <td>396.90</td>\n",
       "      <td>9.14</td>\n",
       "    </tr>\n",
       "    <tr>\n",
       "      <th>2</th>\n",
       "      <td>0.02729</td>\n",
       "      <td>0.0</td>\n",
       "      <td>7.07</td>\n",
       "      <td>0</td>\n",
       "      <td>0.469</td>\n",
       "      <td>7.185</td>\n",
       "      <td>61.1</td>\n",
       "      <td>4.9671</td>\n",
       "      <td>2</td>\n",
       "      <td>242</td>\n",
       "      <td>17.8</td>\n",
       "      <td>392.83</td>\n",
       "      <td>4.03</td>\n",
       "    </tr>\n",
       "    <tr>\n",
       "      <th>3</th>\n",
       "      <td>0.03237</td>\n",
       "      <td>0.0</td>\n",
       "      <td>2.18</td>\n",
       "      <td>0</td>\n",
       "      <td>0.458</td>\n",
       "      <td>6.998</td>\n",
       "      <td>45.8</td>\n",
       "      <td>6.0622</td>\n",
       "      <td>3</td>\n",
       "      <td>222</td>\n",
       "      <td>18.7</td>\n",
       "      <td>394.63</td>\n",
       "      <td>2.94</td>\n",
       "    </tr>\n",
       "    <tr>\n",
       "      <th>4</th>\n",
       "      <td>0.06905</td>\n",
       "      <td>0.0</td>\n",
       "      <td>2.18</td>\n",
       "      <td>0</td>\n",
       "      <td>0.458</td>\n",
       "      <td>7.147</td>\n",
       "      <td>54.2</td>\n",
       "      <td>6.0622</td>\n",
       "      <td>3</td>\n",
       "      <td>222</td>\n",
       "      <td>18.7</td>\n",
       "      <td>396.90</td>\n",
       "      <td>5.33</td>\n",
       "    </tr>\n",
       "  </tbody>\n",
       "</table>\n",
       "</div>"
      ],
      "text/plain": [
       "      crim    zn  indus  chas    nox     rm   age     dis  rad  tax  ptratio  \\\n",
       "0  0.00632  18.0   2.31     0  0.538  6.575  65.2  4.0900    1  296     15.3   \n",
       "1  0.02731   0.0   7.07     0  0.469  6.421  78.9  4.9671    2  242     17.8   \n",
       "2  0.02729   0.0   7.07     0  0.469  7.185  61.1  4.9671    2  242     17.8   \n",
       "3  0.03237   0.0   2.18     0  0.458  6.998  45.8  6.0622    3  222     18.7   \n",
       "4  0.06905   0.0   2.18     0  0.458  7.147  54.2  6.0622    3  222     18.7   \n",
       "\n",
       "    black  lstat  \n",
       "0  396.90   4.98  \n",
       "1  396.90   9.14  \n",
       "2  392.83   4.03  \n",
       "3  394.63   2.94  \n",
       "4  396.90   5.33  "
      ]
     },
     "execution_count": 16,
     "metadata": {},
     "output_type": "execute_result"
    }
   ],
   "source": [
    "inputCols = ['crim', 'zn', 'indus', 'chas', 'nox', 'rm', 'age', 'dis', 'rad', 'tax',\n",
    "       'ptratio', 'black', 'lstat']\n",
    "X = boston[inputCols]\n",
    "X.head()"
   ]
  },
  {
   "cell_type": "markdown",
   "metadata": {},
   "source": [
    "### 1.2. Chia dữ liệu\n",
    "\n",
    "Ta sẽ chia dữ liệu làm 2 tập train và test với tỷ lệ 70/30.\n"
   ]
  },
  {
   "cell_type": "code",
   "execution_count": 17,
   "metadata": {
    "tags": []
   },
   "outputs": [
    {
     "name": "stdout",
     "output_type": "stream",
     "text": [
      "Labels counts in y: 506\n",
      "Labels counts in y_train: 354\n",
      "Labels counts in y_test: 152\n"
     ]
    }
   ],
   "source": [
    "from sklearn.model_selection import train_test_split\n",
    "\n",
    "X_train, X_test, y_train, y_test = train_test_split(\n",
    "    X, y, test_size=0.3, random_state=1)\n",
    "\n",
    "print('Labels counts in y:', len(y))\n",
    "print('Labels counts in y_train:', len(y_train))\n",
    "print('Labels counts in y_test:', len(y_test))"
   ]
  },
  {
   "cell_type": "markdown",
   "metadata": {},
   "source": [
    "### 1.3. Fit mô hình và trực quan hóa kết quả\n",
    "\n",
    "Phần này ta sẽ đánh giá và vẽ biểu đồ kết quả của mô hình k-NN trên tập test với $k \\in \\{ 1, 5, 10, 15, 20, 25, 30 \\}$ dùng độ đo `mean squared error (MSE)`.\n"
   ]
  },
  {
   "cell_type": "code",
   "execution_count": 18,
   "metadata": {
    "tags": []
   },
   "outputs": [
    {
     "data": {
      "text/plain": [
       "Text(0, 0.5, 'MSE')"
      ]
     },
     "execution_count": 18,
     "metadata": {},
     "output_type": "execute_result"
    },
    {
     "data": {
      "image/png": "[encoded data removed]",
      "text/plain": [
       "<Figure size 640x480 with 1 Axes>"
      ]
     },
     "metadata": {},
     "output_type": "display_data"
    }
   ],
   "source": [
    "from sklearn.neighbors import KNeighborsRegressor\n",
    "from sklearn.metrics import mean_squared_error\n",
    "import matplotlib.pyplot as plt\n",
    "\n",
    "numNeighbors = [1, 5, 10, 15, 20, 25, 30]\n",
    "trainMSE = []\n",
    "testMSE = []\n",
    "\n",
    "for k in numNeighbors:\n",
    "    reg = KNeighborsRegressor(n_neighbors=k, metric='minkowski', p=2)\n",
    "    reg.fit(X_train, y_train)\n",
    "    y_predTrain = reg.predict(X_train)\n",
    "    y_predTest = reg.predict(X_test)\n",
    "    trainMSE.append(mean_squared_error(y_train, y_predTrain))\n",
    "    testMSE.append(mean_squared_error(y_test, y_predTest))\n",
    "\n",
    "plt.plot(numNeighbors, trainMSE, 'ro-', numNeighbors, testMSE,'bv--')\n",
    "plt.legend(['Training MSE','Test MSE'])\n",
    "plt.xlabel('Number of neighbors')\n",
    "plt.ylabel('MSE')"
   ]
  },
  {
   "cell_type": "markdown",
   "metadata": {},
   "source": [
    "**Nhận xét**\n",
    "\n",
    "- Khi $k = 1$ mô hình cho kết quả (MSE) trên tập train rất tốt nhưng kết quả trên tập test khá cao. Mô hình có dấu hiệu overfitting.\n",
    "\n",
    "- Khi tăng $k$ lên ($k \\in \\{5, 10 \\}$) kết quả trên tập train tăng lên nhưng kết quả trên tập test lại giảm xuống (so với $k = 1$). Do đó, miền giá trị $k \\in [5, 10]$ có khả năng là miền giá trị mà mô hình cho kết quả tốt (good fit).\n",
    "\n",
    "- Khi tăng $k$ lên nữa ($k \\in \\{15, 20, 25, 30\\}$) kết quả trên tập train tăng lên và kết quả trên tập test có khuynh hướng tăng lên. Do đó, miền giá trị $k \\in [15, 30]$ nhiều khả năng là miền giá trị mà mô hình bị underfitting.\n"
   ]
  },
  {
   "cell_type": "markdown",
   "metadata": {},
   "source": [
    "# II. Bài tập\n"
   ]
  },
  {
   "cell_type": "markdown",
   "metadata": {},
   "source": [
    "## Bài tập 1. Áp dụng thuật toán k-NN\n",
    "\n",
    "Cho dữ liệu huấn luyện (training data) như bảng bên dưới:\n",
    "\n",
    "| $x_1$ | $x_2$ | $y$ |\n",
    "| ----- | ----- | --- |\n",
    "| 1     | 0.5   | 1   |\n",
    "| 2     | 1     | 1   |\n",
    "| 2.5   | 2     | 1   |\n",
    "| 3     | 2     | 1   |\n",
    "| 1.5   | 2     | -1  |\n",
    "| 2.5   | 3     | -1  |\n",
    "| 1     | 2     | -1  |\n",
    "| 1     | 1     | -1  |\n",
    "\n",
    "Ta muốn sử dụng tập dữ liệu huấn luyện ở trên để đưa ra dự đoán, $\\hat{y}$, cho điểm dữ liệu kiểm tra không được gắn nhãn $x = (2.5, 1)$ sử dụng thuật toán k-NN.\n"
   ]
  },
  {
   "cell_type": "markdown",
   "metadata": {},
   "source": [
    "1. Tính khoảng cách Eucledian giữa mỗi quan sát và điểm kiểm tra, $x = (2.5, 1)$ (tạo thêm cột $d$ mô tả khoảng cách giữa các điểm dữ liệu trong tập huấn luyện với điểm kiểm tra, $x = (2.5, 1)$, và điền giá trị vào cột này). Xuất kết quả ra như bảng bên dưới (giá trị cột $d$ là khoảng cách tính được).\n",
    "\n",
    "Tham khảo thêm về thư viện `numpy` ở: https://cs231n.github.io/python-numpy-tutorial/\n"
   ]
  },
  {
   "cell_type": "markdown",
   "metadata": {},
   "source": [
    "**Trả lời**\n"
   ]
  },
  {
   "cell_type": "markdown",
   "metadata": {},
   "source": [
    "1.a. Định nghĩa hàm tính khoảng cách Eucledian theo công thức sau:\n",
    "\n",
    "$$d(u, v) = \\sqrt{\\sum_{i = 1}^{n} (u_i - v_i)^2}$$\n"
   ]
  },
  {
   "cell_type": "code",
   "execution_count": 19,
   "metadata": {},
   "outputs": [
    {
     "name": "stdout",
     "output_type": "stream",
     "text": [
      "EuclideanDistance(u, v) =  5.0\n"
     ]
    }
   ],
   "source": [
    "def EuclideanDistance(u, v):\n",
    "    '''\n",
    "        Calculate the Eucledian distance of vector u and v\n",
    "    '''\n",
    "    ## BEGIN YOUR CODE\n",
    "    \n",
    "    # Tính hiệu giữa hai vector\n",
    "    diff = np.array(u) - np.array(v)\n",
    "    \n",
    "    # Tính bình phương của từng phần tử trong hiệu\n",
    "    sq_diff = np.square(diff)\n",
    "    \n",
    "    # Tính tổng của các bình phương này\n",
    "    sum_sq_diff = np.sum(sq_diff)\n",
    "    \n",
    "    # Tính căn bậc hai của tổng bình phương để có khoảng cách Euclidean\n",
    "    distance = np.sqrt(sum_sq_diff)\n",
    "    \n",
    "    return distance\n",
    "\n",
    "u = (1, 2, 3)\n",
    "v = (4, 2, 7)\n",
    "print(\"EuclideanDistance(u, v) = \", EuclideanDistance(u, v))\n",
    "\n",
    "    ## END YOUR CODE"
   ]
  },
  {
   "cell_type": "markdown",
   "metadata": {},
   "source": [
    "1.b. Tính khoảng cách Eucledian giữa mỗi quan sát và điểm kiểm tra, 𝑥=(2.5,1)\n"
   ]
  },
  {
   "cell_type": "code",
   "execution_count": 20,
   "metadata": {},
   "outputs": [],
   "source": [
    "import numpy as np\n",
    "\n",
    "x = np.array([2.5, 1])\n",
    "\n",
    "X = np.array([[1, 0.5],\n",
    "              [2, 1],\n",
    "              [2.5, 2],\n",
    "              [3, 2],\n",
    "              [1.5, 2],\n",
    "              [2.5, 3],\n",
    "              [1, 2],\n",
    "              [1, 1]])\n",
    "y = np.array(['1','1','1','1','-1','-1','-1','-1'])\n",
    "\n"
   ]
  },
  {
   "cell_type": "markdown",
   "metadata": {},
   "source": [
    "| $x_1$ | $x_2$ | $y$ | $d$ |\n",
    "| ----- | ----- | --- | --- |\n",
    "| 1     | 0.5   | 1   |     |\n",
    "| 2     | 1     | 1   |     |\n",
    "| 2.5   | 2     | 1   |     |\n",
    "| 3     | 2     | 1   |     |\n",
    "| 1.5   | 2     | -1  |     |\n",
    "| 2.5   | 3     | -1  |     |\n",
    "| 1     | 2     | -1  |     |\n",
    "| 1     | 1     | -1  |     |\n"
   ]
  },
  {
   "cell_type": "code",
   "execution_count": 21,
   "metadata": {},
   "outputs": [
    {
     "name": "stdout",
     "output_type": "stream",
     "text": [
      "x1\t x2\t y\t  d\n",
      "1.0  \t0.5  \t1    \t1.58\n",
      "2.0  \t1.0  \t1    \t0.50\n",
      "2.5  \t2.0  \t1    \t1.00\n",
      "3.0  \t2.0  \t1    \t1.12\n",
      "1.5  \t2.0  \t-1   \t1.41\n",
      "2.5  \t3.0  \t-1   \t2.00\n",
      "1.0  \t2.0  \t-1   \t1.80\n",
      "1.0  \t1.0  \t-1   \t1.50\n"
     ]
    }
   ],
   "source": [
    "# Tính khoảng cách Euclidean giữa điểm kiểm tra và từng điểm trong tập huấn luyện\n",
    "distances = np.sqrt(np.sum((X - x)**2, axis=1))\n",
    "\n",
    "# Kết hợp X, y và distances thành một bảng kết quả\n",
    "result = np.column_stack((X, y, distances))\n",
    "\n",
    "# In kết quả\n",
    "print(\"x1\\t x2\\t y\\t  d\")\n",
    "for row in result:\n",
    "    print(f\"{row[0]:<5}\\t{row[1]:<5}\\t{row[2]:<5}\\t{float(row[3]):.2f}\")"
   ]
  },
  {
   "cell_type": "markdown",
   "metadata": {},
   "source": [
    "2. Cho biết dự đoán của thuật toán $k$-NN cho $x = (2.5, 1)$ khi $k = 1$? Tại sao?\n"
   ]
  },
  {
   "cell_type": "markdown",
   "metadata": {},
   "source": [
    "**Trả lời**\n",
    "\n",
    "> Với \\( k = 1 \\), thuật toán chọn điểm huấn luyện gần nhất (là \\( (2, 1) \\)) làm dự đoán. Nhãn của điểm gần nhất là **1**, nên dự đoán cho \\( x \\) cũng là **1**.\n"
   ]
  },
  {
   "cell_type": "markdown",
   "metadata": {},
   "source": [
    "3. Cho biết dự đoán của thuật toán $k$-NN cho $x = (2.5, 1)$ khi $k = 3$? Tại sao?\n"
   ]
  },
  {
   "cell_type": "markdown",
   "metadata": {},
   "source": [
    "**Trả lời**\n",
    "\n",
    "> 3 điểm gần nhất đều có nhãn **1** (không có điểm nào nhãn **-1**), nên dự đoán dựa vào đa số nhãn là **1**.\n"
   ]
  },
  {
   "cell_type": "markdown",
   "metadata": {},
   "source": [
    "## Bài tập 2: Hiện thực thuật toán k-NN\n",
    "\n",
    "Ở bài tập này, bạn sẽ tự hiện thực thuật toán 1-NN (k = 1). Sau đó, bạn sẽ thử nghiệm thuật toán với tập dữ liệu `iris` từ thư viện `sklearn.datasets`. Phần bên dưới là các đoạn mã làm mẫu có một số chỗ còn chừa trống để bạn viết thêm vào.\n"
   ]
  },
  {
   "cell_type": "markdown",
   "metadata": {},
   "source": [
    "### 2.1. Load và khám phá tổng quan về dữ liệu\n"
   ]
  },
  {
   "cell_type": "code",
   "execution_count": 22,
   "metadata": {},
   "outputs": [
    {
     "name": "stdout",
     "output_type": "stream",
     "text": [
      ".. _iris_dataset:\n",
      "\n",
      "Iris plants dataset\n",
      "--------------------\n",
      "\n",
      "**Data Set Characteristics:**\n",
      "\n",
      ":Number of Instances: 150 (50 in each of three classes)\n",
      ":Number of Attributes: 4 numeric, predictive attributes and the class\n",
      ":Attribute Information:\n",
      "    - sepal length in cm\n",
      "    - sepal width in cm\n",
      "    - petal length in cm\n",
      "    - petal width in cm\n",
      "    - class:\n",
      "            - Iris-Setosa\n",
      "            - Iris-Versicolour\n",
      "            - Iris-Virginica\n",
      "\n",
      ":Summary Statistics:\n",
      "\n",
      "============== ==== ==== ======= ===== ====================\n",
      "                Min  Max   Mean    SD   Class Correlation\n",
      "============== ==== ==== ======= ===== ====================\n",
      "sepal length:   4.3  7.9   5.84   0.83    0.7826\n",
      "sepal width:    2.0  4.4   3.05   0.43   -0.4194\n",
      "petal length:   1.0  6.9   3.76   1.76    0.9490  (high!)\n",
      "petal width:    0.1  2.5   1.20   0.76    0.9565  (high!)\n",
      "============== ==== ==== ======= ===== ====================\n",
      "\n",
      ":Missing Attribute Values: None\n",
      ":Class Distribution: 33.3% for each of 3 classes.\n",
      ":Creator: R.A. Fisher\n",
      ":Donor: Michael Marshall (MARSHALL%PLU@io.arc.nasa.gov)\n",
      ":Date: July, 1988\n",
      "\n",
      "The famous Iris database, first used by Sir R.A. Fisher. The dataset is taken\n",
      "from Fisher's paper. Note that it's the same as in R, but not as in the UCI\n",
      "Machine Learning Repository, which has two wrong data points.\n",
      "\n",
      "This is perhaps the best known database to be found in the\n",
      "pattern recognition literature.  Fisher's paper is a classic in the field and\n",
      "is referenced frequently to this day.  (See Duda & Hart, for example.)  The\n",
      "data set contains 3 classes of 50 instances each, where each class refers to a\n",
      "type of iris plant.  One class is linearly separable from the other 2; the\n",
      "latter are NOT linearly separable from each other.\n",
      "\n",
      ".. dropdown:: References\n",
      "\n",
      "  - Fisher, R.A. \"The use of multiple measurements in taxonomic problems\"\n",
      "    Annual Eugenics, 7, Part II, 179-188 (1936); also in \"Contributions to\n",
      "    Mathematical Statistics\" (John Wiley, NY, 1950).\n",
      "  - Duda, R.O., & Hart, P.E. (1973) Pattern Classification and Scene Analysis.\n",
      "    (Q327.D83) John Wiley & Sons.  ISBN 0-471-22361-1.  See page 218.\n",
      "  - Dasarathy, B.V. (1980) \"Nosing Around the Neighborhood: A New System\n",
      "    Structure and Classification Rule for Recognition in Partially Exposed\n",
      "    Environments\".  IEEE Transactions on Pattern Analysis and Machine\n",
      "    Intelligence, Vol. PAMI-2, No. 1, 67-71.\n",
      "  - Gates, G.W. (1972) \"The Reduced Nearest Neighbor Rule\".  IEEE Transactions\n",
      "    on Information Theory, May 1972, 431-433.\n",
      "  - See also: 1988 MLC Proceedings, 54-64.  Cheeseman et al\"s AUTOCLASS II\n",
      "    conceptual clustering system finds 3 classes in the data.\n",
      "  - Many, many more ...\n",
      "\n"
     ]
    }
   ],
   "source": [
    "from sklearn import datasets\n",
    "import numpy as np\n",
    "\n",
    "iris = datasets.load_iris()\n",
    "print(iris.DESCR)\n",
    "X = iris.data\n",
    "y = iris.target"
   ]
  },
  {
   "cell_type": "markdown",
   "metadata": {},
   "source": [
    "### 2.2. Xáo trộn ngẫu nhiên và chia dữ liệu\n"
   ]
  },
  {
   "cell_type": "code",
   "execution_count": 23,
   "metadata": {},
   "outputs": [],
   "source": [
    "# Shuffle the data\n",
    "np.random.seed(0)\n",
    "shuffle = np.random.permutation(np.arange(X.shape[0]))\n",
    "X, y = X[shuffle], y[shuffle]\n",
    "\n",
    "# Split data into train and test set\n",
    "train_data, train_labels = X[:100], y[:100]\n",
    "test_data, test_labels = X[100:], y[100:]"
   ]
  },
  {
   "cell_type": "markdown",
   "metadata": {},
   "source": [
    "### 2.3. Định nghĩa lớp NearestNeighborClassifier\n",
    "\n",
    "Để đơn giản, bạn chỉ cần cài đặt thuật toán k-NN cho bài toán phân loại với k = 1.\n"
   ]
  },
  {
   "cell_type": "code",
   "execution_count": 24,
   "metadata": {},
   "outputs": [],
   "source": [
    "class NearestNeighborClassifier:\n",
    "    # Constructor\n",
    "    def __init__(self, metric = EuclideanDistance):\n",
    "        self.metric = metric\n",
    "    \n",
    "    # No training for Nearest Neighbors, just store the data\n",
    "    def fit(self, train_data, train_labels):\n",
    "        self.train_data = train_data\n",
    "        self.train_labels = train_labels\n",
    "    \n",
    "    # Make predictions for each test instance and return results\n",
    "    def predict(self, test_data):\n",
    "        results = []\n",
    "        for instance in test_data:\n",
    "            results.append(self._predict_instance(instance))\n",
    "        return results\n",
    "    \n",
    "    # Private function for making a single prediction\n",
    "    def _predict_instance(self, instance):\n",
    "        ## BEGIN YOUR CODE\n",
    "\n",
    "        return None\n",
    "        ## END YOUR CODE"
   ]
  },
  {
   "cell_type": "markdown",
   "metadata": {},
   "source": [
    "### 2.4. Thử nghiệm NearestNeighborClassifier\n"
   ]
  },
  {
   "cell_type": "code",
   "execution_count": 25,
   "metadata": {},
   "outputs": [
    {
     "name": "stdout",
     "output_type": "stream",
     "text": [
      "total: 50, correct: 0, accuracy: 0.00\n"
     ]
    }
   ],
   "source": [
    "nn = NearestNeighborClassifier()\n",
    "nn.fit(train_data, train_labels)\n",
    "preds = nn.predict(test_data)\n",
    "\n",
    "total = len(preds)\n",
    "correct = 0\n",
    "for pred, label in zip(preds, test_labels):\n",
    "    if pred == label: correct += 1\n",
    "\n",
    "print(\"total: %d, correct: %d, accuracy: %3.2f\" %(total, correct, 1.0*correct/total))"
   ]
  },
  {
   "cell_type": "markdown",
   "metadata": {},
   "source": [
    "## Bài tập 3. Minh họa bias-variance tradeoff với k-NN cho phân loại\n"
   ]
  },
  {
   "cell_type": "markdown",
   "metadata": {},
   "source": [
    "### 3.1. Chia dữ liệu\n",
    "\n",
    "Ta sẽ tiếp tục dùng tập dữ liệu `iris` từ thư viện `sklearn.datasets` cho các yêu cầu bên dưới.\n",
    "\n",
    "Chia dữ liệu thành 2 tập train và test với tỷ lệ 80/20. Sử dụng thêm tham số `stratify` để đảm bảo phân bố lớp (giá trị của thuộc tính $y$) trên tập train và tập test là xấp xỉ bằng nhau. In ra số lượng phần tử của tập train và tập test.\n",
    "\n",
    "Tham khảo: https://scikit-learn.org/stable/modules/generated/sklearn.model_selection.train_test_split.html\n"
   ]
  },
  {
   "cell_type": "code",
   "execution_count": 26,
   "metadata": {},
   "outputs": [
    {
     "name": "stdout",
     "output_type": "stream",
     "text": [
      "Số lượng phần tử trong tập train: 120\n",
      "Số lượng phần tử trong tập test: 30\n"
     ]
    }
   ],
   "source": [
    "# WRITE YOUR CODE HERE\n",
    "from sklearn import datasets\n",
    "from sklearn.model_selection import train_test_split\n",
    "\n",
    "# Tải dữ liệu iris\n",
    "iris = datasets.load_iris()\n",
    "X = iris.data\n",
    "y = iris.target\n",
    "\n",
    "# Chia dữ liệu thành tập train và test với tỷ lệ 80/20\n",
    "X_train, X_test, y_train, y_test = train_test_split(\n",
    "    X, y, test_size=0.2, random_state=0, stratify=y)\n",
    "\n",
    "# In ra số lượng phần tử của tập train và tập test\n",
    "print('Số lượng phần tử trong tập train:', len(X_train))\n",
    "print('Số lượng phần tử trong tập test:', len(X_test))\n"
   ]
  },
  {
   "cell_type": "markdown",
   "metadata": {},
   "source": [
    "### 3.2 Chuẩn hóa dữ liệu\n",
    "\n",
    "Sử dụng lớp `StandardScaler` của thư viện `sklearn.preprocessing` để chuẩn hóa dữ liệu trên tập train và tập test.\n",
    "\n",
    "Tham khảo: https://scikit-learn.org/stable/modules/generated/sklearn.preprocessing.StandardScaler.html\n"
   ]
  },
  {
   "cell_type": "code",
   "execution_count": 27,
   "metadata": {},
   "outputs": [
    {
     "name": "stdout",
     "output_type": "stream",
     "text": [
      "Giá trị đầu vào sau khi chuẩn hóa (tập train):\n",
      "[[-1.24201895 -0.11044759 -1.32477899 -1.1883386 ]\n",
      " [-1.12457035 -0.11044759 -1.32477899 -1.319285  ]\n",
      " [-1.71181335 -0.11044759 -1.38093352 -1.319285  ]\n",
      " [-1.00712175  0.78810904 -1.26862446 -1.319285  ]\n",
      " [-0.06753295 -0.78436505  0.0790843  -0.00982098]]\n",
      "\n",
      "Giá trị đầu vào sau khi chuẩn hóa (tập test):\n",
      "[[-0.41987875  1.0127482  -1.38093352 -1.319285  ]\n",
      " [-0.18498155 -0.5597259   0.41601149  0.12112542]\n",
      " [-0.88967315  1.68666566 -1.04400633 -1.0573922 ]\n",
      " [ 0.28481286 -1.00900421  1.03371133  0.25207182]\n",
      " [-0.88967315  0.78810904 -1.26862446 -1.319285  ]]\n"
     ]
    }
   ],
   "source": [
    "# WRITE YOUR CODE HERE\n",
    "from sklearn.preprocessing import StandardScaler\n",
    "\n",
    "# Khởi tạo StandardScaler\n",
    "scaler = StandardScaler()\n",
    "\n",
    "# Chỉ chuẩn hóa tập train\n",
    "X_train_scaled = scaler.fit_transform(X_train)\n",
    "\n",
    "# Dùng scaler đã fit để chuẩn hóa tập test\n",
    "X_test_scaled = scaler.transform(X_test)\n",
    "\n",
    "# Kiểm tra các giá trị đã chuẩn hóa\n",
    "print(\"Giá trị đầu vào sau khi chuẩn hóa (tập train):\")\n",
    "print(X_train_scaled[:5])  # In 5 mẫu đầu tiên trong tập train đã chuẩn hóa\n",
    "\n",
    "print(\"\\nGiá trị đầu vào sau khi chuẩn hóa (tập test):\")\n",
    "print(X_test_scaled[:5])  # In 5 mẫu đầu tiên trong tập test đã chuẩn hóa\n"
   ]
  },
  {
   "cell_type": "markdown",
   "metadata": {},
   "source": [
    "### 3.3. Fit mô hình và trực quan hóa kết quả\n",
    "\n",
    "Đánh giá và vẽ biểu đồ kết quả của mô hình k-NN trên tập test với $k \\in \\{ 1, 5, 10, 15, 20, 25, 30 \\}$ dùng độ đo `Accuracy`.\n",
    "\n",
    "Tham khảo: https://scikit-learn.org/stable/modules/generated/sklearn.neighbors.KNeighborsClassifier.html\n"
   ]
  },
  {
   "cell_type": "code",
   "execution_count": 28,
   "metadata": {},
   "outputs": [
    {
     "data": {
      "image/png": "[encoded data removed]",
      "text/plain": [
       "<Figure size 1000x600 with 1 Axes>"
      ]
     },
     "metadata": {},
     "output_type": "display_data"
    }
   ],
   "source": [
    "import matplotlib.pyplot as plt\n",
    "from sklearn.neighbors import KNeighborsClassifier\n",
    "from sklearn.metrics import accuracy_score\n",
    "\n",
    "# Danh sách các giá trị k\n",
    "k_values = [1, 5, 10, 15, 20, 25, 30]\n",
    "train_accuracies = []\n",
    "test_accuracies = []\n",
    "\n",
    "# Huấn luyện và đánh giá mô hình k-NN cho mỗi giá trị của k\n",
    "for k in k_values:\n",
    "    # Tạo mô hình k-NN\n",
    "    knn = KNeighborsClassifier(n_neighbors=k)\n",
    "    \n",
    "    # Huấn luyện mô hình\n",
    "    knn.fit(X_train_scaled, y_train)\n",
    "    \n",
    "    # Dự đoán nhãn cho tập train\n",
    "    y_train_pred = knn.predict(X_train_scaled)\n",
    "    \n",
    "    # Dự đoán nhãn cho tập test\n",
    "    y_test_pred = knn.predict(X_test_scaled)\n",
    "    \n",
    "    # Tính toán độ chính xác cho cả hai tập\n",
    "    train_accuracy = accuracy_score(y_train, y_train_pred)\n",
    "    test_accuracy = accuracy_score(y_test, y_test_pred)\n",
    "    \n",
    "    train_accuracies.append(train_accuracy)\n",
    "    test_accuracies.append(test_accuracy)\n",
    "\n",
    "# Vẽ biểu đồ độ chính xác\n",
    "plt.figure(figsize=(10, 6))\n",
    "plt.plot(k_values, train_accuracies, marker='o', label='Train Accuracy')\n",
    "plt.plot(k_values, test_accuracies, marker='s', label='Test Accuracy')\n",
    "plt.title('Độ chính xác của mô hình k-NN với các giá trị k khác nhau')\n",
    "plt.xlabel('Số lượng hàng xóm k')\n",
    "plt.ylabel('Độ chính xác')\n",
    "plt.xticks(k_values)\n",
    "plt.legend()\n",
    "plt.grid()\n",
    "plt.show()\n"
   ]
  },
  {
   "cell_type": "markdown",
   "metadata": {},
   "source": [
    "**Nhận xét**\n",
    "\n",
    "\n",
    "1. **Độ Chính xác**: \n",
    "   - Độ chính xác trên tập train cao hơn so với tập test(trong khoản k = (25-30)), phản ánh hiện tượng quá khớp (overfitting).\n",
    "   - Độ chính xác trên tập train thấp hơn so với tập test(trong khoản k = (5-25)), phản ánh hiện tượng quá khớp (Underfitting).\n",
    "   - k = 5 Mô hình có thể đang hoạt động tốt trên cả hai tập dữ liệu, cho thấy rằng nó đã học được cấu trúc chính xác của dữ liệu mà không bị quá khớp (overfitting) hoặc quá đơn giản (underfitting).\n",
    "\n",
    "2. **Tác động của \\( k \\)**: Khi \\( k \\) nhỏ, mô hình nhạy cảm với nhiễu; khi \\( k \\) lớn, độ chính xác trên tập test cải thiện nhưng có thể giảm nếu quá lớn.\n",
    "\n"
   ]
  },
  {
   "cell_type": "markdown",
   "metadata": {},
   "source": [
    "## Bài tập 4. Chẩn đoán bias-variance dùng learning curves\n",
    "\n",
    "### 4.1. Vẽ learning curves\n",
    "\n",
    "Sử dụng tập train và test của tập dữ liệu `iris` ở bước 2.2 của bài tập 2, hãy vẽ learning curves cho mô hình k-NN (k = 5).\n",
    "\n",
    "Tham khảo: https://scikit-learn.org/stable/modules/learning_curve.html\n"
   ]
  },
  {
   "cell_type": "code",
   "execution_count": 30,
   "metadata": {},
   "outputs": [
    {
     "data": {
      "image/png": "[encoded data removed]",
      "text/plain": [
       "<Figure size 640x480 with 1 Axes>"
      ]
     },
     "metadata": {},
     "output_type": "display_data"
    }
   ],
   "source": [
    "# WRITE YOUR CODE HERE\n",
    "from sklearn.model_selection import learning_curve\n",
    "from sklearn.neighbors import KNeighborsClassifier\n",
    "import matplotlib.pyplot as plt\n",
    "\n",
    "# Tạo mô hình k-NN\n",
    "knn = KNeighborsClassifier(n_neighbors=5)\n",
    "\n",
    "# Tính learning curves\n",
    "train_sizes, train_scores, test_scores = learning_curve(\n",
    "    knn, train_data, train_labels, train_sizes=np.linspace(0.1, 1.0, 10), cv=5)\n",
    "\n",
    "# Tính toán độ chính xác trung bình và độ lệch chuẩn\n",
    "train_scores_mean = train_scores.mean(axis=1)\n",
    "test_scores_mean = test_scores.mean(axis=1)\n",
    "train_scores_std = train_scores.std(axis=1)\n",
    "test_scores_std = test_scores.std(axis=1)\n",
    "\n",
    "# Vẽ biểu đồ\n",
    "plt.figure()\n",
    "plt.title(\"Learning Curves (k-NN, k=5)\")\n",
    "plt.xlabel(\"Training examples\")\n",
    "plt.ylabel(\"Accuracy\")\n",
    "plt.ylim(0.0, 1.1)\n",
    "plt.grid()\n",
    "\n",
    "# Vẽ learning curves cho tập train\n",
    "plt.fill_between(train_sizes, train_scores_mean - train_scores_std,\n",
    "                 train_scores_mean + train_scores_std, alpha=0.1, color=\"r\")\n",
    "plt.plot(train_sizes, train_scores_mean, 'o-', color=\"r\", label=\"Training score\")\n",
    "\n",
    "# Vẽ learning curves cho tập test\n",
    "plt.fill_between(train_sizes, test_scores_mean - test_scores_std,\n",
    "                 test_scores_mean + test_scores_std, alpha=0.1, color=\"g\")\n",
    "plt.plot(train_sizes, test_scores_mean, 'o-', color=\"g\", label=\"Cross-validation score\")\n",
    "\n",
    "plt.legend(loc=\"best\")\n",
    "plt.show()\n"
   ]
  },
  {
   "cell_type": "markdown",
   "metadata": {},
   "source": [
    "### 4.2. Chuẩn đoán bias-variance dùng learning curves\n",
    "\n",
    "Dựa vào learning curves vẽ được ở câu 3.1, hãy chuẩn đoán xem mô hình có đang bị bias hay variance hay cả hai? Giải thích?\n"
   ]
  },
  {
   "cell_type": "markdown",
   "metadata": {},
   "source": [
    "Kết quả và nhận xét:\n",
    "\n",
    "- Trong khoảng [10 - 40] của \"Trainning examples\"  đường cong huấn luyện (đỏ) cao hơn đường cong kiểm định (xanh) tuy nhiên chênh lệch không quá lớn. \n",
    "\n",
    "- Trong khoảng [40 - 80] của \"Trainning examples\"  đường cong huấn luyện (đỏ) và đường cong kiểm định (xanh) gần nhau và cả hai đều cao, mô hình hoạt động tốt với độ chính xác cao và không có vấn đề về bias hoặc variance.\n",
    "  \n"
   ]
  }
 ],
 "metadata": {
  "kernelspec": {
   "display_name": "Python 3 (ipykernel)",
   "language": "python",
   "name": "python3"
  },
  "language_info": {
   "codemirror_mode": {
    "name": "ipython",
    "version": 3
   },
   "file_extension": ".py",
   "mimetype": "text/x-python",
   "name": "python",
   "nbconvert_exporter": "python",
   "pygments_lexer": "ipython3",
   "version": "3.10.5"
  }
 },
 "nbformat": 4,
 "nbformat_minor": 4
}
